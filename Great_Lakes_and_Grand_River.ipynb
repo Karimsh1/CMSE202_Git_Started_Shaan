{
 "cells": [
  {
   "cell_type": "markdown",
   "metadata": {},
   "source": [
    "# Great Lakes and the Grand River\n",
    "\\* Based off a CMSE 201 assignment\n",
    "\n",
    "Were going to use Pandas or Numpy and Matplotlib to interact with some data that pertains to the water levels of the [Great Lakes](https://en.wikipedia.org/wiki/Great_Lakes) and the [discharge](https://en.wikipedia.org/wiki/Discharge_(hydrology)) of the [Grand River](https://en.wikipedia.org/wiki/Grand_River_(Michigan)).\n",
    "![picture](https://upload.wikimedia.org/wikipedia/commons/5/57/Great_Lakes_from_space_crop_labeled.jpg)"
   ]
  },
  {
   "cell_type": "markdown",
   "metadata": {},
   "source": [
    "---\n",
    "# Great Lakes"
   ]
  },
  {
   "cell_type": "code",
   "execution_count": 2,
   "metadata": {},
   "outputs": [],
   "source": [
    "# Bring in NumPy, Pandas, and Matplotlib, should be all you need to plot. \n",
    "# IF you need more make sure to notify your group.\n",
    "import numpy as np\n",
    "import pandas as pd\n",
    "\n",
    "import matplotlib.pyplot as plt\n",
    "%matplotlib inline"
   ]
  },
  {
   "cell_type": "markdown",
   "metadata": {},
   "source": [
    "To use this notebook for your in-class assignment, you will need these files, which are available as part of the GitHub repository. They live in the \"data\" folder:\n",
    "* `mhu.csv` -- [Lake Michigan](https://en.wikipedia.org/wiki/Lake_Michigan) and [Lake Huron](https://en.wikipedia.org/wiki/Lake_Huron)\n",
    "* `sup.csv` -- [Lake Superior](https://en.wikipedia.org/wiki/Lake_Superior)\n",
    "* `eri.csv` -- [Lake Erie](https://en.wikipedia.org/wiki/Lake_Erie)\n",
    "* `ont.csv` -- [Lake Ontario](https://en.wikipedia.org/wiki/Lake_Ontario)\n",
    "\n",
    "This notebook **might look very familiar!** It is based off a CMSE 201 assignment that focused on exploring some [Great Lakes](https://en.wikipedia.org/wiki/Great_Lakes) water level data. We will be doing similar calculations with the same data to get some practice with version contol while your remind yourself of your Python skills. Make sure you **try to complete this activity without looking at the old notebook**. The old notebook came up in 201 right after you first learned how to use Matplotlib and as you began to learn about NumPy. This is good moment to reflect on how far you have come.\n",
    "\n",
    "**As instructed in the in-class activity notebook for today, you are only expected to complete one \"PART\" below. Do not worry if your group is not big enough to finish all parts below, but if you have extra time, you're welcome to do so.**"
   ]
  },
  {
   "cell_type": "markdown",
   "metadata": {},
   "source": [
    "# PART 1\n",
    "\n",
    "**Using the Michigan/Huron Dataset, plot the Water Level, the second column, as a function of time [years]**"
   ]
  },
  {
   "cell_type": "code",
   "execution_count": null,
   "metadata": {},
   "outputs": [],
   "source": [
    "# Insert Code Here\n",
    "mhu=pd.read_csv(\"./data/mhu.csv\")\n",
    "mhu\n"
   ]
  },
  {
   "cell_type": "code",
   "execution_count": null,
   "metadata": {},
   "outputs": [],
   "source": [
    "years = mhu['Michigan-Huron annual averages']\n",
    "water_level = mhu['AnnAvg']\n",
    "\n",
    "plt.figure(figsize=(12, 6))\n",
    "plt.plot(years, water_level, marker='o', linestyle='-')\n",
    "plt.title('Michigan-Huron Water Level Over Time')\n",
    "plt.xlabel('Year')\n",
    "plt.ylabel('Water Level')\n",
    "plt.grid(True)\n",
    "plt.show()"
   ]
  },
  {
   "cell_type": "markdown",
   "metadata": {},
   "source": [
    "# PART 2\n",
    "\n",
    "**Using the Superior Dataset, plot the Water Level, the second column, as a function of time [years]**"
   ]
  },
  {
   "cell_type": "code",
   "execution_count": null,
   "metadata": {},
   "outputs": [],
   "source": [
    "# Insert Code Here\n",
    "sup=pd.read_csv(\"./data/sup.csv\")\n",
    "sup\n"
   ]
  },
  {
   "cell_type": "code",
   "execution_count": null,
   "metadata": {},
   "outputs": [],
   "source": [
    "years = sup['Lake Superior annual averages']\n",
    "water_level = sup['AnnAvg']\n",
    "\n",
    "\n",
    "plt.figure(figsize=(12, 6))\n",
    "plt.plot(years, water_level, marker='o', linestyle='-')\n",
    "plt.title('Lake superior Water Level Over Time')\n",
    "plt.xlabel('Year')\n",
    "plt.ylabel('Water Level')\n",
    "plt.grid(True)\n",
    "plt.show()"
   ]
  },
  {
   "cell_type": "markdown",
   "metadata": {},
   "source": [
    "# PART 3\n",
    "\n",
    "**Using the Erie Dataset, plot the Water Level, the second column, as a function of time [years]**"
   ]
  },
  {
   "cell_type": "code",
   "execution_count": null,
   "metadata": {},
   "outputs": [],
   "source": [
    "# Insert Code Here\n",
    "df = pd.read_csv('./data/eri.csv',usecols = [0,1])\n",
    "df\n",
    "df.keys()\n",
    "time = df['Lake Erie annual averages']\n",
    "data = df['Unnamed: 1']\n",
    "plt.plot(time,data)\n",
    "plt.xlabel('Time [years]')\n",
    "plt.ylabel('Water Level')\n",
    "plt.title('Erie water level over time')"
   ]
  },
  {
   "cell_type": "markdown",
   "metadata": {},
   "source": [
    "# PART 4\n",
    "\n",
    "**Using the Ontario Dataset, plot the Water Level, the second column, as a function of time [years]**"
   ]
  },
  {
   "cell_type": "code",
   "execution_count": null,
   "metadata": {},
   "outputs": [],
   "source": [
    "# Insert Code Here\n",
    "df = pd.read_csv('./data/ont.csv',usecols = [0,1])\n",
    "df\n",
    "df.keys()\n",
    "time = df['Lake Ontario annual averages']\n",
    "data = df['AnnAvg']\n",
    "plt.plot(time,data)\n",
    "plt.xlabel('Time [years]')\n",
    "plt.ylabel('Water Level')\n",
    "plt.title('Ontario water level over time')"
   ]
  },
  {
   "cell_type": "markdown",
   "metadata": {},
   "source": [
    "# PART 5\n",
    "\n",
    "**Using the Michigan/Huron and Superior Datasets, plot the Michigan/Hurion Water Level vs Superior Water Level to see if there is any correlation between the water levels.**"
   ]
  },
  {
   "cell_type": "code",
   "execution_count": 9,
   "metadata": {},
   "outputs": [
    {
     "data": {
      "text/plain": [
       "Text(0, 0.5, 'Superior Water Level')"
      ]
     },
     "execution_count": 9,
     "metadata": {},
     "output_type": "execute_result"
    },
    {
     "data": {
      "image/png": "[encoded data removed]",
      "text/plain": [
       "<Figure size 432x288 with 1 Axes>"
      ]
     },
     "metadata": {
      "needs_background": "light"
     },
     "output_type": "display_data"
    }
   ],
   "source": [
    "# Insert Code Here\n",
    "mhu = pd.read_csv('./data/mhu.csv')\n",
    "sup = pd.read_csv('./data/sup.csv')\n",
    "plt.scatter(mhu['AnnAvg'], sup['AnnAvg'])\n",
    "plt.title('Hurion vs. Superior Water lavels')\n",
    "plt.xlabel('Hurion Water Level')\n",
    "plt.ylabel('Superior Water Level')"
   ]
  },
  {
   "cell_type": "markdown",
   "metadata": {},
   "source": [
    "# PART 6\n",
    "\n",
    "**Using the Michigan/Hurion and Erie Datasets, plot the Michigan/Huron Water Level vs Erie Water Level to see if there is any correlation between the water levels.**"
   ]
  },
  {
   "cell_type": "code",
   "execution_count": 13,
   "metadata": {},
   "outputs": [
    {
     "data": {
      "text/plain": [
       "Text(0, 0.5, 'Erie Water Level')"
      ]
     },
     "execution_count": 13,
     "metadata": {},
     "output_type": "execute_result"
    },
    {
     "data": {
      "image/png": "[encoded data removed]",
      "text/plain": [
       "<Figure size 432x288 with 1 Axes>"
      ]
     },
     "metadata": {
      "needs_background": "light"
     },
     "output_type": "display_data"
    }
   ],
   "source": [
    "# Insert Code Here\n",
    "eri = pd.read_csv('./data/eri.csv')\n",
    "plt.scatter(mhu['AnnAvg'], eri['Unnamed: 1'])\n",
    "plt.title('Hurion vs. Erie Water lavels')\n",
    "plt.xlabel('Hurion Water Level')\n",
    "plt.ylabel('Erie Water Level')"
   ]
  },
  {
   "cell_type": "markdown",
   "metadata": {},
   "source": [
    "# PART 7\n",
    "\n",
    "**Using the Superior and Ontario Datasets, plot the Superior Water Level vs Ontario Water Level to see if there is any correlation between the water levels.**"
   ]
  },
  {
   "cell_type": "code",
   "execution_count": null,
   "metadata": {},
   "outputs": [],
   "source": [
    "# Insert Code Here"
   ]
  },
  {
   "cell_type": "markdown",
   "metadata": {},
   "source": [
    "# PART 8\n",
    "\n",
    "**Using the Erie and Ontario Datasets, plot the Erie Water Level vs Ontario Water Level to see if there is any correlation between the water levels.**"
   ]
  },
  {
   "cell_type": "code",
   "execution_count": null,
   "metadata": {},
   "outputs": [],
   "source": [
    "# Insert Code Here"
   ]
  },
  {
   "cell_type": "markdown",
   "metadata": {},
   "source": [
    "---\n",
    "### &#128721; STOP \n",
    "The next section is for the **Exploring the version history and moving between versions** section of today's in-class activity.\n",
    "\n",
    "---"
   ]
  },
  {
   "cell_type": "markdown",
   "metadata": {},
   "source": [
    "# Grand River\n",
    "<img src=\"https://upload.wikimedia.org/wikipedia/commons/thumb/7/75/Grand_River_%28Michigan%29_map.svg/800px-Grand_River_%28Michigan%29_map.svg.png\">"
   ]
  },
  {
   "cell_type": "markdown",
   "metadata": {},
   "source": [
    "The [Grand River](https://en.wikipedia.org/wiki/Grand_River_(Michigan)) is an important landmark in [Southern Michigan](https://en.wikipedia.org/wiki/Southern_Michigan). It is the longest river in Michigan at 252 miles (406 km) and it runs through many of the noteable cities in [Southern Michigan](https://en.wikipedia.org/wiki/Southern_Michigan), including [Lansing](https://en.wikipedia.org/wiki/Lansing,_Michigan). \"Grand River\" is also the name of a major road way, also known as [U.S. Route 16](https://en.wikipedia.org/wiki/U.S._Route_16_in_Michigan), that stretches from the rivers end point at [Lake Michigan](https://en.wikipedia.org/wiki/Lake_Michigan) in [Grand Haven](https://en.wikipedia.org/wiki/Grand_Haven,_Michigan) to [Detroit](https://en.wikipedia.org/wiki/Detroit). The river is one of the three major [tributaries](https://en.wikipedia.org/wiki/Tributary) of Lake Michigan."
   ]
  },
  {
   "cell_type": "markdown",
   "metadata": {},
   "source": [
    "Using data on the [discharge](https://en.wikipedia.org/wiki/Discharge_(hydrology)) of the [Grand River](https://en.wikipedia.org/wiki/Grand_River_(Michigan)) and water level of [Lake Michigan](https://en.wikipedia.org/wiki/Lake_Michigan)/[Lake Huron](https://en.wikipedia.org/wiki/Lake_Huron), we will see if there is any correlation between the two."
   ]
  },
  {
   "cell_type": "code",
   "execution_count": null,
   "metadata": {},
   "outputs": [],
   "source": [
    "#Importing Seaborn for regplot\n",
    "import seaborn as sns\n",
    "\n",
    "#loading in Data for Grand River from riverdata.com\n",
    "import urllib.request\n",
    "print('Beginning file download with urllib2...')\n",
    "url = 'http://riverdata.com/grand.csv'\n",
    "urllib.request.urlretrieve(url, './data/grand.csv')\n",
    "grand = pd.read_csv(\"./data/grand.csv\")\n",
    "\n",
    "#Loading in Data for mhu.csv\n",
    "mhu = pd.read_csv(\"./data/mhu.csv\")\n",
    "mhu = mhu[mhu[\"Michigan-Huron annual averages\"] >= 1935]\n",
    "grand = grand[grand[\"Calendar Year\"] <= 2015]\n",
    "grand = grand[grand[\"Calendar Year\"] >= 1935]\n",
    "\n",
    "# Setting Size of Figures\n",
    "plt.figure(figsize=(7,10))\n",
    "\n",
    "# Plotting Discharge versus time\n",
    "plt.subplot(2,1,1)\n",
    "plt.scatter(grand[\"Calendar Year\"],grand[\"Discharge (ft^3/s)\"])\n",
    "plt.xlabel(\"Calendar Years\")\n",
    "plt.ylabel(\"Discharge (ft^3/s)\")\n",
    "plt.title(\"Grand River Discharge over Time\")\n",
    "\n",
    "#Plotting Grand River Discharge versus Lake Michigan/Huron Water Level (Normalized)\n",
    "ax2 = plt.subplot(2,1,2)\n",
    "sns.regplot(grand[\"Discharge (ft^3/s)\"],mhu[\"AnnAvg\"],ax=ax2)\n",
    "plt.xlabel(\"Grand River Discharge (ft^3/s)\")\n",
    "plt.ylabel(\"Lake Michigan/Huron Water Level\")\n",
    "plt.title(\"Grand River Discharge vs Lake Michigan/Huron Water Level\")\n",
    "plt.tight_layout()"
   ]
  },
  {
   "cell_type": "markdown",
   "metadata": {},
   "source": [
    "&#169; Copyright 2020,  Michigan State University Board of Trustees."
   ]
  }
 ],
 "metadata": {
  "kernelspec": {
   "display_name": "Python 3.8",
   "language": "python",
   "name": "python3"
  },
  "language_info": {
   "codemirror_mode": {
    "name": "ipython",
    "version": 3
   },
   "file_extension": ".py",
   "mimetype": "text/x-python",
   "name": "python",
   "nbconvert_exporter": "python",
   "pygments_lexer": "ipython3",
   "version": "3.8.8"
  }
 },
 "nbformat": 4,
 "nbformat_minor": 4
}
